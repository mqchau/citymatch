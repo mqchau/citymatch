{
 "cells": [
  {
   "cell_type": "code",
   "execution_count": 17,
   "metadata": {
    "collapsed": false
   },
   "outputs": [
    {
     "data": {
      "text/plain": [
       "51"
      ]
     },
     "execution_count": 17,
     "metadata": {},
     "output_type": "execute_result"
    }
   ],
   "source": [
    "import json\n",
    "from bs4 import BeautifulSoup\n",
    "import requests\n",
    "from pprint import pprint\n",
    "import re\n",
    "import html5lib\n",
    "\n",
    "states = {\n",
    "        'Illinois':'IL',\n",
    "        'Kansas':'KS',\n",
    "        'South Dakota':'SD',\n",
    "        'Idaho':'ID',\n",
    "        'South Carolina':'SC',\n",
    "        'Ohio':'OH',\n",
    "        'Wyoming':'WY',\n",
    "        'District of Columbia':'DC',\n",
    "        'Alaska':'AK',\n",
    "        'Rhode Island':'RI',\n",
    "        'Texas':'TX',\n",
    "        'Maryland':'MD',\n",
    "        'Minnesota':'MN',\n",
    "        'New Mexico':'NM',\n",
    "        'Nevada':'NV',\n",
    "        'Iowa':'IA',\n",
    "        'West Virginia':'WV',\n",
    "        'North Dakota':'ND',\n",
    "        'Arkansas':'AR',\n",
    "        'Arizona':'AZ',\n",
    "        'Louisiana':'LA',\n",
    "        'Delaware':'DE',\n",
    "        'Florida':'FL',\n",
    "        'Montana':'MT',\n",
    "        'Missouri':'MO',\n",
    "        'North Carolina':'NC',\n",
    "        'Oklahoma':'OK',\n",
    "        'Nebraska':'NE',\n",
    "        'California':'CA',\n",
    "        'Mississippi':'MS',\n",
    "        'Wisconsin':'WI',\n",
    "        'Indiana':'IN',\n",
    "        'Georgia':'GA',\n",
    "        'Massachusetts':'MA',\n",
    "        'Tennessee':'TN',\n",
    "        'New Hampshire':'NH',\n",
    "        'Washington':'WA',\n",
    "        'New Jersey':'NJ',\n",
    "        'Connecticut':'CT',\n",
    "        'Maine':'ME',\n",
    "        'Oregon':'OR',\n",
    "        'Vermont':'VT',\n",
    "        'New York':'NY',\n",
    "        'Alabama':'AL',\n",
    "        'Hawaii':'HI',\n",
    "        'Michigan':'MI',\n",
    "        'Pennsylvania':'PA',\n",
    "        'Virginia':'VA',\n",
    "        'Utah':'UT',\n",
    "        'Kentucky':'KY',\n",
    "        'Colorado':'CO'\n",
    "}\n",
    "states_urls"
   ]
  },
  {
   "cell_type": "code",
   "execution_count": null,
   "metadata": {
    "collapsed": true
   },
   "outputs": [],
   "source": []
  }
 ],
 "metadata": {
  "kernelspec": {
   "display_name": "Python 3",
   "language": "python",
   "name": "python3"
  },
  "language_info": {
   "codemirror_mode": {
    "name": "ipython",
    "version": 3
   },
   "file_extension": ".py",
   "mimetype": "text/x-python",
   "name": "python",
   "nbconvert_exporter": "python",
   "pygments_lexer": "ipython3",
   "version": "3.4.4"
  }
 },
 "nbformat": 4,
 "nbformat_minor": 0
}
